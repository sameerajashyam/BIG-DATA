{
 "cells": [
  {
   "cell_type": "markdown",
   "id": "a0060bc8",
   "metadata": {},
   "source": [
    "# Q1. Why do we call Python as a general purpose and high-level programming language?\n"
   ]
  },
  {
   "cell_type": "markdown",
   "id": "f4d9110a",
   "metadata": {},
   "source": [
    "python is  general purpose   programming language because it is widely used to built different softwares\n",
    "\n",
    "it can be used to create a variety of different programs and isnt specialized for any specific problems\n",
    "\n"
   ]
  },
  {
   "cell_type": "markdown",
   "id": "b4aeaf81",
   "metadata": {},
   "source": [
    "# Q2. Why is Python called a dynamically typed language?\n"
   ]
  },
  {
   "cell_type": "markdown",
   "id": "5b1970c3",
   "metadata": {},
   "source": [
    "for declaring a variable we need not take the date type seperately\n",
    "\n",
    "lets say we want to take a=5\n",
    "\n",
    "in python we can assign directly a=5  and Python also take cares of the memory management  this is  why we call dynamically typed language"
   ]
  },
  {
   "cell_type": "markdown",
   "id": "d52d3775",
   "metadata": {},
   "source": [
    "# Q3. List some pros and cons of Python programming language?\n"
   ]
  },
  {
   "cell_type": "markdown",
   "id": "9b781817",
   "metadata": {},
   "source": [
    "#pros\n",
    "--> as we know python is dynamically typed programming language\n",
    "\n",
    "--> open source\n",
    "\n",
    "--> packages and libraries in python\n",
    "\n",
    "--> inbuilt functions\n",
    "\n",
    "#cons\n",
    "\n",
    "-->slower when compared to c++ in execution time\n",
    "\n",
    "-->High memory consumption"
   ]
  },
  {
   "cell_type": "markdown",
   "id": "e89815b8",
   "metadata": {},
   "source": [
    "# Q4. In what all domains can we use Python?"
   ]
  },
  {
   "cell_type": "markdown",
   "id": "fba32dd6",
   "metadata": {},
   "source": [
    "python is widely used in ai and ml is widely used.\n",
    "\n",
    "python is widely used in  Data science.\n",
    "\n",
    "python is used in web development(django,flask).\n",
    "\n",
    "It is used to built deep learning model like ann,gan,nn,...etc\n"
   ]
  },
  {
   "cell_type": "markdown",
   "id": "f0c6d4d9",
   "metadata": {},
   "source": [
    "# Q5. What are variable and how can we declare them?"
   ]
  },
  {
   "cell_type": "markdown",
   "id": "0deb52cb",
   "metadata": {},
   "source": [
    "variables are nothing but containers  to store a data.\n",
    "\n",
    "lets say a is a variable if we want to store the value 5 in it we use  a=5.\n",
    "\n",
    "here a is variable we  assign the value 5 to the varible a\n"
   ]
  },
  {
   "cell_type": "markdown",
   "id": "d217a8b0",
   "metadata": {},
   "source": [
    "# Q6. How can we take an input from the user in Python?"
   ]
  },
  {
   "cell_type": "markdown",
   "id": "b0941027",
   "metadata": {},
   "source": [
    "in python we can take input by using the input() inbuilt function.\n",
    "\n",
    "by default input() will be string.\n",
    "\n",
    "a=input()#string\n",
    "\n",
    "b=int(input())# integer\n"
   ]
  },
  {
   "cell_type": "markdown",
   "id": "f09f06b8",
   "metadata": {},
   "source": [
    "# Q7. What is the default datatype of the value that has been taken as an input using input() function"
   ]
  },
  {
   "cell_type": "markdown",
   "id": "79fb73a4",
   "metadata": {},
   "source": [
    "by default input() will take as string"
   ]
  },
  {
   "cell_type": "markdown",
   "id": "9fa55cce",
   "metadata": {},
   "source": [
    "# Q8. What is type casting?"
   ]
  },
  {
   "cell_type": "markdown",
   "id": "6f66e3ea",
   "metadata": {},
   "source": [
    "type casting in simple words changing the data type.\n",
    "\n",
    "the conversion of one data type into the other data type\n",
    "\n",
    "a=\"9\"#we taken as string\n",
    "\n",
    "b=int(a) #we are type casting (string to integer)\n"
   ]
  },
  {
   "cell_type": "code",
   "execution_count": 10,
   "id": "e9c0f5d6",
   "metadata": {},
   "outputs": [
    {
     "name": "stdout",
     "output_type": "stream",
     "text": [
      "<class 'str'>\n",
      "<class 'int'>\n"
     ]
    }
   ],
   "source": [
    "a=\"9\"\n",
    "b=int(a)\n",
    "print(type(a))\n",
    "print(type(b))"
   ]
  },
  {
   "cell_type": "markdown",
   "id": "5cf7b9c0",
   "metadata": {},
   "source": [
    "# Q9. Can we take more than one input from the user using single input() function? If yes, how? If no, why?"
   ]
  },
  {
   "cell_type": "markdown",
   "id": "6f5d2d1d",
   "metadata": {},
   "source": [
    "it is possible to take more than one input from user usinf single input by using split() function\n",
    "let say we want to take 3 values from user a,b,c by using single input we can take\n",
    "a,b,c=input().split()\n"
   ]
  },
  {
   "cell_type": "code",
   "execution_count": 2,
   "id": "c01cddb6",
   "metadata": {},
   "outputs": [
    {
     "name": "stdout",
     "output_type": "stream",
     "text": [
      "1 2 3\n"
     ]
    }
   ],
   "source": [
    "a,b,c=input().split()"
   ]
  },
  {
   "cell_type": "code",
   "execution_count": 3,
   "id": "4038e405",
   "metadata": {},
   "outputs": [
    {
     "name": "stdout",
     "output_type": "stream",
     "text": [
      "1 2 3\n"
     ]
    }
   ],
   "source": [
    "print(a,b,c)"
   ]
  },
  {
   "cell_type": "markdown",
   "id": "7ceaf7ee",
   "metadata": {},
   "source": [
    "# Q10. What are keywords?"
   ]
  },
  {
   "cell_type": "markdown",
   "id": "a126b79f",
   "metadata": {},
   "source": [
    "# Several words in the Python language are designated as reserved keywords, meaning they cannot be used as variable names, function names, or any other identifiers.\n",
    "ex:\n",
    "    and\n",
    "    \n",
    "    as,\n",
    "    \n",
    "    class,\n",
    "    \n",
    "    def,\n",
    "    \n",
    "    elif,\n",
    "    if ,\n",
    "    else,\n",
    "    break,\n",
    "    continue,\n",
    "    finally,\n",
    "    from,\n",
    "    while,\n",
    "    import\n",
    "    ...etc\n",
    "    "
   ]
  },
  {
   "cell_type": "markdown",
   "id": "d1daf36b",
   "metadata": {},
   "source": [
    "# Q11. Can we use keywords as a variable? Support your answer with reason."
   ]
  },
  {
   "cell_type": "markdown",
   "id": "5e1f07af",
   "metadata": {},
   "source": [
    "we cannot use keyword  as variable name it throws error if we used\n",
    "\n",
    "reason:\n",
    "\n",
    "    Keywords define the languages syntax rules and structure, and they cannot be used as variable names"
   ]
  },
  {
   "cell_type": "markdown",
   "id": "c5826227",
   "metadata": {},
   "source": [
    "# Q12. What is indentation? What's the use of indentaion in Python?"
   ]
  },
  {
   "cell_type": "markdown",
   "id": "ac19b2f8",
   "metadata": {},
   "source": [
    "python uses indentation to indicate a block of code.\n",
    "\n",
    "Python indentation refers to adding white space before a statement to a particular block of code. \n",
    "\n",
    "ex:\n",
    "    if 1:\n",
    "        print(True)#indentation  gap before print()statement for this line\n",
    "    else:\n",
    "        print(False)\n",
    "        \n",
    "uses:\n",
    "    provides readers with a sense of continuity\n",
    "    They help present content in a logical fashion"
   ]
  },
  {
   "cell_type": "markdown",
   "id": "a6ff1076",
   "metadata": {},
   "source": [
    "# Q13. How can we throw some output in Python?"
   ]
  },
  {
   "cell_type": "markdown",
   "id": "1e089a6e",
   "metadata": {},
   "source": [
    "python helps us to print output by using print() function\n",
    "\n",
    "ex:\n",
    "\n",
    "    a=\"ineuron\"\n",
    "    \n",
    "    print(a)#output"
   ]
  },
  {
   "cell_type": "code",
   "execution_count": 11,
   "id": "988305f8",
   "metadata": {},
   "outputs": [
    {
     "name": "stdout",
     "output_type": "stream",
     "text": [
      "ineuron\n"
     ]
    }
   ],
   "source": [
    "a=\"ineuron\"\n",
    "print(a)#output"
   ]
  },
  {
   "cell_type": "markdown",
   "id": "5822f25b",
   "metadata": {},
   "source": [
    "# Q14. What are operators in Python?"
   ]
  },
  {
   "cell_type": "markdown",
   "id": "32efe689",
   "metadata": {},
   "source": [
    "Operators are special symbols that perform operations on variables and values.\n",
    "\n",
    "Arithmetic operators\n",
    "\n",
    "Assignment Operators\n",
    "\n",
    "Comparison Operators\n",
    "\n",
    "Logical Operators\n",
    "\n",
    "Bitwise Operators\n",
    "\n"
   ]
  },
  {
   "cell_type": "markdown",
   "id": "b709e82e",
   "metadata": {},
   "source": [
    "# Q15. What is difference between / and // operators?"
   ]
  },
  {
   "cell_type": "markdown",
   "id": "8ef3edea",
   "metadata": {},
   "source": [
    "/ means float division\n",
    "\n",
    "// means integer division\n"
   ]
  },
  {
   "cell_type": "code",
   "execution_count": 14,
   "id": "6bcefae2",
   "metadata": {},
   "outputs": [
    {
     "name": "stdout",
     "output_type": "stream",
     "text": [
      "2.5\n",
      "2\n"
     ]
    }
   ],
   "source": [
    "a=5/2\n",
    "b=5//2\n",
    "print(a)\n",
    "print(b)"
   ]
  },
  {
   "cell_type": "markdown",
   "id": "74094cc0",
   "metadata": {},
   "source": [
    "# Q16. Write a code that gives following as an output."
   ]
  },
  {
   "cell_type": "code",
   "execution_count": 16,
   "id": "d3c591ff",
   "metadata": {},
   "outputs": [
    {
     "name": "stdout",
     "output_type": "stream",
     "text": [
      "iNeuroniNeuroniNeuroniNeuron\n"
     ]
    }
   ],
   "source": [
    "n=\"iNeuron\"\n",
    "print(n*4)"
   ]
  },
  {
   "cell_type": "markdown",
   "id": "04e102ad",
   "metadata": {},
   "source": [
    "# Q17. Write a code to take a number as an input from the user and check if the number is odd or even.\n"
   ]
  },
  {
   "cell_type": "code",
   "execution_count": 17,
   "id": "41d30dff",
   "metadata": {},
   "outputs": [
    {
     "name": "stdout",
     "output_type": "stream",
     "text": [
      "22\n",
      "Even\n"
     ]
    }
   ],
   "source": [
    "n=int(input())\n",
    "if n%2==0:  #if it is divisible by 2 then it is even\n",
    "    print(\"Even\")\n",
    "else:\n",
    "    print(\"Odd\")"
   ]
  },
  {
   "cell_type": "markdown",
   "id": "53db7598",
   "metadata": {},
   "source": [
    "# Q18. What are boolean operator?"
   ]
  },
  {
   "cell_type": "markdown",
   "id": "cd6d9e69",
   "metadata": {},
   "source": [
    "boolean operator  mean True or False \n",
    "\n",
    "Boolean operators are another name for the logical operators -->and, or,not."
   ]
  },
  {
   "cell_type": "markdown",
   "id": "ac1c245d",
   "metadata": {},
   "source": [
    "# Q19. What will the output of the following?\n",
    "```\n",
    "1 or 0\n",
    "\n",
    "0 and 0\n",
    "\n",
    "True and False and True\n",
    "\n",
    "1 or 0 or 0"
   ]
  },
  {
   "cell_type": "code",
   "execution_count": 22,
   "id": "9f82d7d3",
   "metadata": {},
   "outputs": [
    {
     "name": "stdout",
     "output_type": "stream",
     "text": [
      "1 or 0= 1\n"
     ]
    }
   ],
   "source": [
    "print(\"1 or 0=\",1 or 0)"
   ]
  },
  {
   "cell_type": "code",
   "execution_count": 23,
   "id": "88e40bed",
   "metadata": {},
   "outputs": [
    {
     "name": "stdout",
     "output_type": "stream",
     "text": [
      "1 and 0= 0\n"
     ]
    }
   ],
   "source": [
    "print(\"1 and 0=\",1 and 0)"
   ]
  },
  {
   "cell_type": "code",
   "execution_count": 25,
   "id": "64578ad7",
   "metadata": {},
   "outputs": [
    {
     "name": "stdout",
     "output_type": "stream",
     "text": [
      "True or False = True\n"
     ]
    }
   ],
   "source": [
    "print(\"True or False =\",True or False)"
   ]
  },
  {
   "cell_type": "code",
   "execution_count": 28,
   "id": "cc20e13d",
   "metadata": {},
   "outputs": [
    {
     "name": "stdout",
     "output_type": "stream",
     "text": [
      "1 or 0 or 0 = 1\n"
     ]
    }
   ],
   "source": [
    "print(\"1 or 0 or 0 =\",1 or 0 or 0)"
   ]
  },
  {
   "cell_type": "markdown",
   "id": "086e357b",
   "metadata": {},
   "source": [
    "# Q20. What are conditional statements in Python?"
   ]
  },
  {
   "cell_type": "markdown",
   "id": "4d0b2829",
   "metadata": {},
   "source": [
    "in python condition statement are if else statements\n",
    "\n",
    "we have a particular conditions we check for those if those particular conditon is accepted then \n",
    "\n",
    "those instruction will get executed\n",
    "\n",
    "if condtion fail will check same for other condtion if all fail else block will execute if it was \n",
    "\n",
    "available\n",
    "\n",
    "if x==1:\n",
    "\n",
    "    print(1)\n",
    "\n",
    "elif x==2:\n",
    "\n",
    "    print(2)\n",
    "\n",
    "else:\n",
    "\n",
    "    print(3)\n"
   ]
  },
  {
   "cell_type": "markdown",
   "id": "74996461",
   "metadata": {},
   "source": [
    "# Q21. What is use of 'if', 'elif' and 'else' keywords?"
   ]
  },
  {
   "cell_type": "markdown",
   "id": "a968f409",
   "metadata": {},
   "source": [
    "we can say if is an decision making statement\n",
    "\n",
    "It is used to decide whether a certain statement or block of statements will be executed or not i.e \n",
    "\n",
    "if a certain condition is true then a block of statement is executed otherwise not.\n",
    "\n",
    "ex :\n",
    "    \n",
    "    a=10\n",
    "    \n",
    "    if a==10:\n",
    "    \n",
    "        print(\"TRUE\")\n",
    "\n",
    "elif:\n",
    "    if conditional statement is false if we want to check for more conditional statements then we can     use elif\n",
    "    \n",
    "else:\n",
    "    if all the conditional statements are flase the else will be executed"
   ]
  },
  {
   "cell_type": "code",
   "execution_count": 3,
   "id": "9ffc7350",
   "metadata": {},
   "outputs": [
    {
     "name": "stdout",
     "output_type": "stream",
     "text": [
      "Enter your lucky number: 12\n",
      "hi\n"
     ]
    }
   ],
   "source": [
    "a=int(input(\"Enter your lucky number: \"))\n",
    "if a<100:\n",
    "    print(\"hi\")\n",
    "elif a<1000:\n",
    "    print(\"hihi\")\n",
    "else:\n",
    "    print(\"Hello\")"
   ]
  },
  {
   "cell_type": "markdown",
   "id": "beaea769",
   "metadata": {},
   "source": [
    "# Q22. Write a code to take the age of person as an input and if age >= 18 display \"I can vote\". If age is < 18 display \"I can't vote\"."
   ]
  },
  {
   "cell_type": "code",
   "execution_count": 5,
   "id": "08b435e2",
   "metadata": {},
   "outputs": [
    {
     "name": "stdout",
     "output_type": "stream",
     "text": [
      "Enter the age : 12\n",
      "I can't  vote\n"
     ]
    }
   ],
   "source": [
    "n=int(input(\"Enter the age : \"))\n",
    "if n>=18:\n",
    "    print(\"I can vote.\")\n",
    "else:\n",
    "    print(\"I can't  vote\")"
   ]
  },
  {
   "cell_type": "markdown",
   "id": "798bdf11",
   "metadata": {},
   "source": [
    "# Q23. Write a code that displays the sum of all the even numbers from the given list.\n",
    "```\n",
    "numbers = [12, 75, 150, 180, 145, 525, 50]"
   ]
  },
  {
   "cell_type": "code",
   "execution_count": 6,
   "id": "c9fb7a59",
   "metadata": {},
   "outputs": [
    {
     "name": "stdout",
     "output_type": "stream",
     "text": [
      "392\n"
     ]
    }
   ],
   "source": [
    "even_sum=0\n",
    "numbers = [12, 75, 150, 180, 145, 525, 50]\n",
    "for i in numbers:\n",
    "    if i%2==0:\n",
    "        even_sum+=i\n",
    "print(even_sum)"
   ]
  },
  {
   "cell_type": "markdown",
   "id": "f35861e2",
   "metadata": {},
   "source": [
    "# Q24. Write a code to take 3 numbers as an input from the user and display the greatest no as output"
   ]
  },
  {
   "cell_type": "code",
   "execution_count": 11,
   "id": "9f145f54",
   "metadata": {},
   "outputs": [
    {
     "name": "stdout",
     "output_type": "stream",
     "text": [
      "1 2 3\n",
      "3\n"
     ]
    }
   ],
   "source": [
    "a,b,c=input().split(\" \")\n",
    "print(max(a,b,c))"
   ]
  },
  {
   "cell_type": "markdown",
   "id": "02cd4c9d",
   "metadata": {},
   "source": [
    "# Q25. Write a program to display only those numbers from a list that satisfy the following conditions\n",
    "\n",
    "- The number must be divisible by five\n",
    "\n",
    "- If the number is greater than 150, then skip it and move to the next number\n",
    "\n",
    "- If the number is greater than 500, then stop the loop\n",
    "```\n",
    "\n",
    "\n",
    "\n",
    "numbers = [12, 75, 150, 180, 145, 525, 50]"
   ]
  },
  {
   "cell_type": "code",
   "execution_count": 12,
   "id": "fc78e754",
   "metadata": {},
   "outputs": [],
   "source": [
    "numbers = [12, 75, 150, 180, 145, 525, 50]"
   ]
  },
  {
   "cell_type": "code",
   "execution_count": 20,
   "id": "634a3632",
   "metadata": {},
   "outputs": [
    {
     "name": "stdout",
     "output_type": "stream",
     "text": [
      "75\n",
      "145\n"
     ]
    }
   ],
   "source": [
    "for i in numbers:\n",
    "    if i>=500:#greater than 500 stop loop\n",
    "        break;\n",
    "    if i%5==0 and  i<150: #divisible by 5 and less than 500\n",
    "            print(i)\n",
    "        \n",
    "        "
   ]
  },
  {
   "cell_type": "markdown",
   "id": "2f4b7fa1",
   "metadata": {},
   "source": [
    "# Q26. What is a string? How can we declare string in Python?"
   ]
  },
  {
   "cell_type": "markdown",
   "id": "8c402a4e",
   "metadata": {},
   "source": [
    "ans)\n",
    "\n",
    "string is an array of sequenced of charactera \n",
    "\n",
    "strings are written in single or double quotes ex: \" \" or ''\n",
    "\n",
    "example:\n",
    "\n",
    "s=\"sameer\" ---> string"
   ]
  },
  {
   "cell_type": "code",
   "execution_count": 3,
   "id": "78b55fbb",
   "metadata": {},
   "outputs": [
    {
     "name": "stdout",
     "output_type": "stream",
     "text": [
      "sameer\n"
     ]
    }
   ],
   "source": [
    "s='sameer'\n",
    "print(s)"
   ]
  },
  {
   "cell_type": "markdown",
   "id": "08f5affe",
   "metadata": {},
   "source": [
    "# Q27. How can we access the string using its index?"
   ]
  },
  {
   "cell_type": "markdown",
   "id": "82d7b9fd",
   "metadata": {},
   "source": [
    "ans)\n",
    "\n",
    "string can be accessed through indexes\n",
    "\n",
    "Sqaure brackets can used to access the elements of the string.\n",
    "\n",
    "ex:\n",
    "    n=\"sameer\"\n",
    "    \n",
    "    n[0] -->'s'\n",
    "    \n",
    "    n[1] -->'a'\n",
    "    \n",
    "    .... etc"
   ]
  },
  {
   "cell_type": "code",
   "execution_count": 13,
   "id": "d14691c1",
   "metadata": {},
   "outputs": [
    {
     "name": "stdout",
     "output_type": "stream",
     "text": [
      "s [0]  =  s\n",
      "s [1]  =  a\n",
      "s [2]  =  m\n",
      "s [3]  =  e\n",
      "s [4]  =  e\n",
      "s [5]  =  r\n"
     ]
    }
   ],
   "source": [
    "s=\"sameer\"\n",
    "for i in range(len(s)):\n",
    "    print('s',[i],\" = \",s[i])"
   ]
  },
  {
   "cell_type": "markdown",
   "id": "3cf5dbca",
   "metadata": {},
   "source": [
    "# Q28. Write a code to get the desired output of the following\n",
    "```\n",
    "string = \"Big Data iNeuron\"\n",
    "desired_output = \"iNeuron\"\n",
    "```"
   ]
  },
  {
   "cell_type": "code",
   "execution_count": 14,
   "id": "761f84b9",
   "metadata": {},
   "outputs": [],
   "source": [
    "string = \"Big Data iNeuron\""
   ]
  },
  {
   "cell_type": "code",
   "execution_count": 16,
   "id": "c3e31d92",
   "metadata": {},
   "outputs": [
    {
     "name": "stdout",
     "output_type": "stream",
     "text": [
      "iNeuron\n"
     ]
    }
   ],
   "source": [
    "print(string[9:])"
   ]
  },
  {
   "cell_type": "markdown",
   "id": "529c9c77",
   "metadata": {},
   "source": [
    "# Q29. Write a code to get the desired output of the following\n",
    "```\n",
    "string = \"Big Data iNeuron\"\n",
    "desired_output = \"norueNi\"\n",
    "```"
   ]
  },
  {
   "cell_type": "code",
   "execution_count": 17,
   "id": "a3e14f64",
   "metadata": {},
   "outputs": [
    {
     "name": "stdout",
     "output_type": "stream",
     "text": [
      "norueNi\n"
     ]
    }
   ],
   "source": [
    "print(string[9:][::-1])"
   ]
  },
  {
   "cell_type": "markdown",
   "id": "085c53bd",
   "metadata": {},
   "source": [
    "# Q30. Resverse the string given in the above question.\n"
   ]
  },
  {
   "cell_type": "code",
   "execution_count": 18,
   "id": "66495998",
   "metadata": {},
   "outputs": [
    {
     "name": "stdout",
     "output_type": "stream",
     "text": [
      "norueNi\n"
     ]
    }
   ],
   "source": [
    "print(string[9:][::-1])"
   ]
  },
  {
   "cell_type": "markdown",
   "id": "4f24ad21",
   "metadata": {},
   "source": [
    "# Q31. How can you delete entire string at once?"
   ]
  },
  {
   "cell_type": "code",
   "execution_count": 1,
   "id": "3d4942e2",
   "metadata": {},
   "outputs": [
    {
     "ename": "NameError",
     "evalue": "name 's' is not defined",
     "output_type": "error",
     "traceback": [
      "\u001b[1;31m---------------------------------------------------------------------------\u001b[0m",
      "\u001b[1;31mNameError\u001b[0m                                 Traceback (most recent call last)",
      "\u001b[1;32m~\\AppData\\Local\\Temp\\ipykernel_12516\\3431482102.py\u001b[0m in \u001b[0;36m<module>\u001b[1;34m\u001b[0m\n\u001b[0;32m      1\u001b[0m \u001b[0ms\u001b[0m\u001b[1;33m=\u001b[0m\u001b[1;34m\"sameer\"\u001b[0m\u001b[1;33m\u001b[0m\u001b[1;33m\u001b[0m\u001b[0m\n\u001b[0;32m      2\u001b[0m \u001b[1;32mdel\u001b[0m \u001b[0ms\u001b[0m\u001b[1;33m\u001b[0m\u001b[1;33m\u001b[0m\u001b[0m\n\u001b[1;32m----> 3\u001b[1;33m \u001b[0mprint\u001b[0m\u001b[1;33m(\u001b[0m\u001b[0ms\u001b[0m\u001b[1;33m)\u001b[0m\u001b[1;33m\u001b[0m\u001b[1;33m\u001b[0m\u001b[0m\n\u001b[0m",
      "\u001b[1;31mNameError\u001b[0m: name 's' is not defined"
     ]
    }
   ],
   "source": [
    "s=\"sameer\"\n",
    "del s\n",
    "print(s)"
   ]
  },
  {
   "cell_type": "markdown",
   "id": "254fe6e5",
   "metadata": {},
   "source": [
    "# Q32. What is escape sequence?"
   ]
  },
  {
   "cell_type": "markdown",
   "id": "12a439de",
   "metadata": {},
   "source": [
    "ans)\n",
    "\n",
    "Escape sequences allow you to include special characters in the  strings. \n",
    "\n",
    "adding a  backslash (\\) before the character you want to escape."
   ]
  },
  {
   "cell_type": "code",
   "execution_count": 3,
   "id": "8781cb4f",
   "metadata": {},
   "outputs": [
    {
     "name": "stdout",
     "output_type": "stream",
     "text": [
      "HI I AM  \"SAMEER\" I LIKE APPLES.\n"
     ]
    }
   ],
   "source": [
    "txt = \"HI I AM  \\\"SAMEER\\\" I LIKE APPLES.\"\n",
    "print(txt) \n"
   ]
  },
  {
   "cell_type": "markdown",
   "id": "05c7858d",
   "metadata": {},
   "source": [
    "# Q33. How can you print the below string?\n",
    "```\n",
    "'iNeuron's Big Data Course'\n",
    "```"
   ]
  },
  {
   "cell_type": "code",
   "execution_count": 10,
   "id": "8a889f9f",
   "metadata": {},
   "outputs": [
    {
     "name": "stdout",
     "output_type": "stream",
     "text": [
      "iNeuron's  Big Data Course\n"
     ]
    }
   ],
   "source": [
    "s=\"iNeuron\\'s  Big Data Course\"\n",
    "print(s)"
   ]
  },
  {
   "cell_type": "markdown",
   "id": "1b22c7d5",
   "metadata": {},
   "source": [
    "# Q34. What is a list in Python?"
   ]
  },
  {
   "cell_type": "markdown",
   "id": "4624159f",
   "metadata": {},
   "source": [
    "ans)\n",
    "list is homogeneous datastructure we can store any kind of data in it .\n",
    "\n",
    "list are used to store multiple items in a single variable\n",
    "\n",
    "list had some in built functions\n",
    "\n",
    "1.append   2.replace    3.pop   4.insert    5.del   6.index   7.count   ....etc"
   ]
  },
  {
   "cell_type": "markdown",
   "id": "cc40d6e6",
   "metadata": {},
   "source": [
    "# Q35. How can you create a list in Python?\n"
   ]
  },
  {
   "cell_type": "markdown",
   "id": "a79ff0be",
   "metadata": {},
   "source": [
    "list can be created by using list() function  or by opening and closing square brackets []  for a variable \n",
    "\n",
    " ex:\n",
    " \n",
    "        l=[]\n",
    "        \n",
    "        l1=list()\n",
    "        \n"
   ]
  },
  {
   "cell_type": "code",
   "execution_count": 11,
   "id": "f67d0e4c",
   "metadata": {},
   "outputs": [
    {
     "name": "stdout",
     "output_type": "stream",
     "text": [
      "[1, 2, 3, 4]\n"
     ]
    }
   ],
   "source": [
    "l=[1,2,3,4]\n",
    "print(l)"
   ]
  },
  {
   "cell_type": "code",
   "execution_count": 13,
   "id": "9842b590",
   "metadata": {},
   "outputs": [
    {
     "name": "stdout",
     "output_type": "stream",
     "text": [
      "[1, 2]\n"
     ]
    }
   ],
   "source": [
    "l1=list()\n",
    "l1.append(1);l1.append(2)\n",
    "print(l1)"
   ]
  },
  {
   "cell_type": "markdown",
   "id": "d11c1b7b",
   "metadata": {},
   "source": [
    "# Q36. How can we access the elements in a list?"
   ]
  },
  {
   "cell_type": "markdown",
   "id": "a14395fc",
   "metadata": {},
   "source": [
    "ans)\n",
    "we can access list element by indexs or by using loop concepts\n",
    "\n"
   ]
  },
  {
   "cell_type": "code",
   "execution_count": 15,
   "id": "baafc97a",
   "metadata": {},
   "outputs": [
    {
     "name": "stdout",
     "output_type": "stream",
     "text": [
      "2\n"
     ]
    }
   ],
   "source": [
    "l=[1,2,3,4,5,6,7,8]\n",
    "print(l[1])   # through index"
   ]
  },
  {
   "cell_type": "code",
   "execution_count": 17,
   "id": "133fc302",
   "metadata": {},
   "outputs": [
    {
     "name": "stdout",
     "output_type": "stream",
     "text": [
      "1 2 3 4 5 6 7 8 "
     ]
    }
   ],
   "source": [
    "for i in l:                           # loop\n",
    "    print(i,end=\" \")"
   ]
  },
  {
   "cell_type": "markdown",
   "id": "37d4e8ec",
   "metadata": {},
   "source": [
    "# Q37. Write a code to access the word \"iNeuron\" from the given list.\n",
    "```\n",
    "lst = [1,2,3,\"Hi\",[45,54, \"iNeuron\"], \"Big Data\"]\n",
    "``` "
   ]
  },
  {
   "cell_type": "code",
   "execution_count": 21,
   "id": "dc562750",
   "metadata": {},
   "outputs": [
    {
     "name": "stdout",
     "output_type": "stream",
     "text": [
      "iNeuron\n"
     ]
    }
   ],
   "source": [
    "lst = [1,2,3,\"Hi\",[45,54, \"iNeuron\"], \"Big Data\"]\n",
    "print(lst[4][2])"
   ]
  },
  {
   "cell_type": "markdown",
   "id": "620fb53e",
   "metadata": {},
   "source": [
    "# Q38. Take a list as an input from the user and find the length of the list."
   ]
  },
  {
   "cell_type": "code",
   "execution_count": 23,
   "id": "c11fac48",
   "metadata": {},
   "outputs": [
    {
     "name": "stdout",
     "output_type": "stream",
     "text": [
      "1 2 3 4 5 6 7 8 9\n",
      "length of list is  9\n"
     ]
    }
   ],
   "source": [
    "l=list(map(int,input().split()))\n",
    "print(\"length of list is \",len(l))"
   ]
  },
  {
   "cell_type": "markdown",
   "id": "4eef3d94",
   "metadata": {},
   "source": [
    "# Q39. Add the word \"Big\" in the 3rd index of the given list.\n",
    "```\n",
    "lst = [\"Welcome\", \"to\", \"Data\", \"course\"]\n",
    "```"
   ]
  },
  {
   "cell_type": "code",
   "execution_count": 3,
   "id": "b9ffac07",
   "metadata": {},
   "outputs": [
    {
     "name": "stdout",
     "output_type": "stream",
     "text": [
      "['Welcome', 'to', 'Big', 'Data', 'course']\n"
     ]
    }
   ],
   "source": [
    "lst = [\"Welcome\", \"to\", \"Data\", \"course\"]\n",
    "lst.insert(2,\"Big\") #indexing starts at at 0. so 3 means index 2\n",
    "print(lst)\n"
   ]
  },
  {
   "cell_type": "markdown",
   "id": "4ad66157",
   "metadata": {},
   "source": [
    "# Q40. What is a tuple? How is it different from list?"
   ]
  },
  {
   "cell_type": "markdown",
   "id": "435d0f70",
   "metadata": {},
   "source": [
    "ans)\n",
    "Tuples are used to store multiple items in a single variable\n",
    "\n",
    "A tuple is an immutable object, which means it cannot be changed\n",
    "\n",
    "we use it to represent fixed collections of items\n",
    "\n",
    "A tuple is a collection which is ordered and unchangeable.\n",
    "\n",
    "\n",
    "tuples are different from list\n",
    "\n",
    "--> list are mutable (we can change the values)\n",
    "\n",
    "--> tuples are immutable (we can not change like add or delete once it is created)\n",
    "\n",
    "--->  We can also faster through the tuples than the list."
   ]
  },
  {
   "cell_type": "markdown",
   "id": "e20a452c",
   "metadata": {},
   "source": [
    "# Q41. How can you create a tuple in Python?\n"
   ]
  },
  {
   "cell_type": "markdown",
   "id": "aec8995a",
   "metadata": {},
   "source": [
    "we can create tuple by using round brackets () \n"
   ]
  },
  {
   "cell_type": "code",
   "execution_count": 8,
   "id": "be563350",
   "metadata": {},
   "outputs": [
    {
     "name": "stdout",
     "output_type": "stream",
     "text": [
      "(1, 2, 3, 4) <class 'tuple'>\n",
      "(1, 2, 3, 4, 5) <class 'tuple'>\n"
     ]
    }
   ],
   "source": [
    "# ex\n",
    "a=(1,2,3,4)\n",
    "b=1,2,3,4,5 # WE CAN DECLARE IN BOTH WAYS\n",
    "\n",
    "print(a,type(a))\n",
    "print(b,type(b))"
   ]
  },
  {
   "cell_type": "markdown",
   "id": "e75721cc",
   "metadata": {},
   "source": [
    "# Q42. Create a tuple and try to add your name in the tuple. Are you able to do it? Support your answer with reason."
   ]
  },
  {
   "cell_type": "markdown",
   "id": "eafcefc0",
   "metadata": {},
   "source": [
    "ans)\n",
    "tuples are  immutable . \n",
    "\n",
    "to do this firt the typecasting should be done like the tuple should be converted to list and do changes\n",
    "what ever we want and change the list again into tuple\n"
   ]
  },
  {
   "cell_type": "markdown",
   "id": "3c7ae8e3",
   "metadata": {},
   "source": [
    "# Q43. Can two tuple be appended. If yes, write a code for it. If not, why?\n"
   ]
  },
  {
   "cell_type": "markdown",
   "id": "949fd5ad",
   "metadata": {},
   "source": [
    "yes we can add two tuples"
   ]
  },
  {
   "cell_type": "code",
   "execution_count": 10,
   "id": "d8ff144c",
   "metadata": {},
   "outputs": [
    {
     "name": "stdout",
     "output_type": "stream",
     "text": [
      "sameeraja shyam\n"
     ]
    }
   ],
   "source": [
    "s1=('sameeraja')\n",
    "s2=(' shyam')\n",
    "print(s1+s2)"
   ]
  },
  {
   "cell_type": "markdown",
   "id": "44e52dfc",
   "metadata": {},
   "source": [
    "# Q44. Take a tuple as an input and print the count of elements in it.\n"
   ]
  },
  {
   "cell_type": "code",
   "execution_count": 16,
   "id": "42cb5cf7",
   "metadata": {},
   "outputs": [
    {
     "name": "stdout",
     "output_type": "stream",
     "text": [
      "1 2 3 4 5\n",
      "5\n"
     ]
    }
   ],
   "source": [
    "l=list(map(int,input().split()))\n",
    "t=tuple(l)\n",
    "print(len(t))"
   ]
  },
  {
   "cell_type": "markdown",
   "id": "3df6d479",
   "metadata": {},
   "source": [
    "# Q45. What are sets in Python?"
   ]
  },
  {
   "cell_type": "markdown",
   "id": "84696a5f",
   "metadata": {},
   "source": [
    " Set items are unordered, unchangeable, and do not allow duplicate values.\n",
    "\n",
    "Set items are unchangeable, meaning that we cannot change the items after the set has been create\n",
    "\n",
    "-->duplicates are not allowed\n"
   ]
  },
  {
   "cell_type": "markdown",
   "id": "8bcc3377",
   "metadata": {},
   "source": [
    "# Q46. How can you create a set?"
   ]
  },
  {
   "cell_type": "markdown",
   "id": "0a70acc8",
   "metadata": {},
   "source": [
    "we can create set using curly brackets set() function\n"
   ]
  },
  {
   "cell_type": "code",
   "execution_count": 21,
   "id": "1b515c56",
   "metadata": {},
   "outputs": [
    {
     "name": "stdout",
     "output_type": "stream",
     "text": [
      "<class 'set'>\n"
     ]
    }
   ],
   "source": [
    "s=set()\n",
    "print(type(s))"
   ]
  },
  {
   "cell_type": "markdown",
   "id": "61128bd7",
   "metadata": {},
   "source": [
    "# Q47. Create a set and add \"iNeuron\" in your set.\n"
   ]
  },
  {
   "cell_type": "code",
   "execution_count": 24,
   "id": "3f00a3c1",
   "metadata": {},
   "outputs": [
    {
     "name": "stdout",
     "output_type": "stream",
     "text": [
      "{'iNeuron'}\n"
     ]
    }
   ],
   "source": [
    "s=set()\n",
    "s.add(\"iNeuron\")\n",
    "print(s)"
   ]
  },
  {
   "cell_type": "markdown",
   "id": "1eb9fa00",
   "metadata": {},
   "source": [
    "# Q48. Try to add multiple values using add() function."
   ]
  },
  {
   "cell_type": "code",
   "execution_count": 27,
   "id": "678ffd42",
   "metadata": {},
   "outputs": [
    {
     "name": "stdout",
     "output_type": "stream",
     "text": [
      "{1, 2, 3, 4, 'B.TECH', 5, 6, 7, 8, 'shyam', 'iNeuron', 'sameer'}\n"
     ]
    }
   ],
   "source": [
    "s.add(\"sameer\")\n",
    "s.add('shyam')\n",
    "s.add(\"B.TECH\")\n",
    "for i in range(1,9):\n",
    "    s.add(i)\n",
    "print(s)\n"
   ]
  },
  {
   "cell_type": "markdown",
   "id": "33fc98f9",
   "metadata": {},
   "source": [
    "# Q49. How is update() different from add()?"
   ]
  },
  {
   "cell_type": "markdown",
   "id": "f9034e70",
   "metadata": {},
   "source": [
    " we Can add more than one element in a single go using update().\n",
    " \n",
    "but using add() it's not possible.\n"
   ]
  },
  {
   "cell_type": "markdown",
   "id": "083db54b",
   "metadata": {},
   "source": [
    "# Q50. What is clear() in sets?"
   ]
  },
  {
   "cell_type": "markdown",
   "id": "1284d72d",
   "metadata": {},
   "source": [
    " ans)\n",
    " \n",
    " Removes all the elements from the set"
   ]
  },
  {
   "cell_type": "code",
   "execution_count": 1,
   "id": "2210042d",
   "metadata": {},
   "outputs": [
    {
     "name": "stdout",
     "output_type": "stream",
     "text": [
      "set()\n"
     ]
    }
   ],
   "source": [
    "s = {1,2,3,4,5}\n",
    "s.clear()\n",
    "print(s)"
   ]
  },
  {
   "cell_type": "markdown",
   "id": "7a4461d3",
   "metadata": {},
   "source": [
    "# Q51. What is frozen set?"
   ]
  },
  {
   "cell_type": "markdown",
   "id": "39f5020e",
   "metadata": {},
   "source": [
    "Frozen set is just an immutable.\n",
    "While elements of a set can be modified at any time\n",
    "elements of the frozen set remain the same after creation.\n",
    "\n"
   ]
  },
  {
   "cell_type": "markdown",
   "id": "08a7471a",
   "metadata": {},
   "source": [
    "# Q52. How is frozen set different from set?"
   ]
  },
  {
   "cell_type": "markdown",
   "id": "553b461c",
   "metadata": {},
   "source": [
    "in fronset once we declare we cannot able to change or modify the set \n",
    "\n",
    "in set we change the elements at any point of time\n",
    "\n",
    "A set is a mutable object while frozenset provides an immutable implementation. "
   ]
  },
  {
   "cell_type": "markdown",
   "id": "e0035ba4",
   "metadata": {},
   "source": [
    "# Q53. What is union() in sets? Explain via code."
   ]
  },
  {
   "cell_type": "markdown",
   "id": "9fdfe288",
   "metadata": {},
   "source": [
    "union means combining of all elements  at once \n",
    "\n",
    "means lets say a={1,2,3,4,5} b={5,6,7,8,9}\n",
    "\n",
    "union of a,b={1,2,3,4,5,6,7,8,9}\n"
   ]
  },
  {
   "cell_type": "code",
   "execution_count": 2,
   "id": "d6cf2bed",
   "metadata": {},
   "outputs": [
    {
     "name": "stdout",
     "output_type": "stream",
     "text": [
      "{1, 2, 3, 4, 5, 6}\n"
     ]
    }
   ],
   "source": [
    "x = {1,2,3}\n",
    "y = {1,2,3,4,5,6}\n",
    "\n",
    "z = x.union(y)\n",
    "\n",
    "print(z)"
   ]
  },
  {
   "cell_type": "markdown",
   "id": "5cb9215a",
   "metadata": {},
   "source": [
    "# Q54. What is intersection() in sets? Explain via code.\n"
   ]
  },
  {
   "cell_type": "markdown",
   "id": "9e00f89a",
   "metadata": {},
   "source": [
    "The intersection() method returns a set that contains the similarity between two or more sets"
   ]
  },
  {
   "cell_type": "code",
   "execution_count": 5,
   "id": "9e5a5600",
   "metadata": {},
   "outputs": [
    {
     "name": "stdout",
     "output_type": "stream",
     "text": [
      "{1, 2, 3}\n"
     ]
    }
   ],
   "source": [
    "x = {1,2,3}\n",
    "y = {1,2,3,4,5,6}\n",
    "z = x.intersection(y)\n",
    "print(z)"
   ]
  },
  {
   "cell_type": "markdown",
   "id": "409244d1",
   "metadata": {},
   "source": [
    "# Q55. What is dictionary ibn Python?"
   ]
  },
  {
   "cell_type": "markdown",
   "id": "f1b7467f",
   "metadata": {},
   "source": [
    "A dictionary consists of a collection of key-value pairs. \n",
    "\n",
    "Each key-value pair maps the key to its associated value."
   ]
  },
  {
   "cell_type": "markdown",
   "id": "15a2bd64",
   "metadata": {},
   "source": [
    "# Q56. How is dictionary different from all other data structures.\n"
   ]
  },
  {
   "cell_type": "markdown",
   "id": "dd6a2858",
   "metadata": {},
   "source": [
    "The dictionary Data Structure in Python is an unordered collection of items \n",
    "\n",
    "While other Data Structures use only one value as the element,"
   ]
  },
  {
   "cell_type": "markdown",
   "id": "9a452934",
   "metadata": {},
   "source": [
    "# Q57. How can we delare a dictionary in Python?"
   ]
  },
  {
   "cell_type": "code",
   "execution_count": 7,
   "id": "74280d94",
   "metadata": {},
   "outputs": [
    {
     "name": "stdout",
     "output_type": "stream",
     "text": [
      "<class 'dict'>\n"
     ]
    }
   ],
   "source": [
    "d=dict()\n",
    "print(type(d))"
   ]
  },
  {
   "cell_type": "markdown",
   "id": "36eca96a",
   "metadata": {},
   "source": [
    "# Q58. What will the output of the following?\n",
    "```\n",
    "var = {}\n",
    "print(type(var))\n",
    "```"
   ]
  },
  {
   "cell_type": "markdown",
   "id": "91baf6e4",
   "metadata": {},
   "source": [
    "ans)         <class 'dict'>\n"
   ]
  },
  {
   "cell_type": "markdown",
   "id": "cbfaad14",
   "metadata": {},
   "source": [
    "# Q59. How can we add an element in a dictionary?"
   ]
  },
  {
   "cell_type": "code",
   "execution_count": 11,
   "id": "97201ab0",
   "metadata": {},
   "outputs": [],
   "source": [
    "d=dict()"
   ]
  },
  {
   "cell_type": "code",
   "execution_count": 16,
   "id": "28654f22",
   "metadata": {},
   "outputs": [
    {
     "name": "stdout",
     "output_type": "stream",
     "text": [
      "{'sameer': 1, 'age': 19}\n"
     ]
    }
   ],
   "source": [
    "d[\"sameer\"]=1\n",
    "d.update({\"age\":19})\n",
    "print(d)"
   ]
  },
  {
   "cell_type": "markdown",
   "id": "8993f697",
   "metadata": {},
   "source": [
    "# Q60. Create a dictionary and access all the values in that dictionary.\n"
   ]
  },
  {
   "cell_type": "code",
   "execution_count": 17,
   "id": "6138bf9e",
   "metadata": {},
   "outputs": [
    {
     "name": "stdout",
     "output_type": "stream",
     "text": [
      "dict_values([1, 19])\n"
     ]
    }
   ],
   "source": [
    "d=dict()\n",
    "d[\"sameer\"]=1\n",
    "d.update({\"age\":19})\n",
    "print(d.values())"
   ]
  },
  {
   "cell_type": "markdown",
   "id": "163ea9ba",
   "metadata": {},
   "source": [
    "# Q61. Create a nested dictionary and access all the element in the inner dictionary.\n"
   ]
  },
  {
   "cell_type": "code",
   "execution_count": 18,
   "id": "bb655447",
   "metadata": {},
   "outputs": [],
   "source": [
    "d= dict(emp1 = {'name': 'Bob', 'job': 'Mgr'},\n",
    "         emp2 = {'name': 'Kim', 'job': 'Dev'},\n",
    "         emp3 = {'name': 'Sam', 'job': 'Dev'})"
   ]
  },
  {
   "cell_type": "code",
   "execution_count": 28,
   "id": "c8ef2b7b",
   "metadata": {},
   "outputs": [
    {
     "name": "stdout",
     "output_type": "stream",
     "text": [
      "{'name': 'Bob', 'job': 'Mgr'}\n",
      "{'name': 'Kim', 'job': 'Dev'}\n",
      "{'name': 'Sam', 'job': 'Dev'}\n"
     ]
    }
   ],
   "source": [
    "k=d.keys()\n",
    "for i in k:\n",
    "    print(d[i])"
   ]
  },
  {
   "cell_type": "markdown",
   "id": "d6e07cf4",
   "metadata": {},
   "source": [
    "# Q62. What is the use of get() function?\n"
   ]
  },
  {
   "cell_type": "markdown",
   "id": "e5daad21",
   "metadata": {},
   "source": [
    "get() function is used to get the value of any specified key from a dictionary."
   ]
  },
  {
   "cell_type": "markdown",
   "id": "02a6ce08",
   "metadata": {},
   "source": [
    "# Q63. What is the use of items() function?\n"
   ]
  },
  {
   "cell_type": "markdown",
   "id": "c7beef41",
   "metadata": {},
   "source": [
    " items() method is used to return the list with all dictionary keys with values."
   ]
  },
  {
   "cell_type": "markdown",
   "id": "3d9bc7a4",
   "metadata": {},
   "source": [
    "# Q64. What is the use of pop() function?\n"
   ]
  },
  {
   "cell_type": "markdown",
   "id": "3edb45ae",
   "metadata": {},
   "source": [
    "The pop() method removes the item at the given index from the list and returns the removed item."
   ]
  },
  {
   "cell_type": "markdown",
   "id": "d7d58b3e",
   "metadata": {},
   "source": [
    "# Q65. What is the use of popitems() function?"
   ]
  },
  {
   "cell_type": "markdown",
   "id": "2ccd948e",
   "metadata": {},
   "source": [
    "dictionary popitem() method removes the last inserted key-value pair from the dictionary and returns it as a tuple."
   ]
  },
  {
   "cell_type": "markdown",
   "id": "bcab89e8",
   "metadata": {},
   "source": [
    "# Q66. What is the use of keys() function?\n"
   ]
  },
  {
   "cell_type": "markdown",
   "id": "f6f2e7b7",
   "metadata": {},
   "source": [
    "keys() function will return all keys from dictionary \n"
   ]
  },
  {
   "cell_type": "markdown",
   "id": "e52c612d",
   "metadata": {},
   "source": [
    "# Q67. What is the use of values() function?"
   ]
  },
  {
   "cell_type": "markdown",
   "id": "0df84279",
   "metadata": {},
   "source": [
    "values() function will return all values from dictionary \n"
   ]
  },
  {
   "cell_type": "markdown",
   "id": "f72b50a3",
   "metadata": {},
   "source": [
    "# Q68. What are loops in Python?\n"
   ]
  },
  {
   "cell_type": "markdown",
   "id": "598a9222",
   "metadata": {},
   "source": [
    "A loop is an instruction that repeats multiple times as long as some condition is met.\n",
    "\n",
    "loops:\n",
    "\n",
    "    1. for loop\n",
    "    \n",
    "    2. while loop\n",
    "    "
   ]
  },
  {
   "cell_type": "markdown",
   "id": "c314025d",
   "metadata": {},
   "source": [
    "# Q69. How many type of loop are there in Python?\n"
   ]
  },
  {
   "cell_type": "markdown",
   "id": "4a1a25bd",
   "metadata": {},
   "source": [
    "loops:\n",
    "\n",
    "    1. for loop\n",
    "    \n",
    "    2. while loop\n",
    "    \n",
    "    3. nested loop"
   ]
  },
  {
   "cell_type": "markdown",
   "id": "89d586c1",
   "metadata": {},
   "source": [
    "# Q70. What is the difference between for and while loops?\n"
   ]
  },
  {
   "cell_type": "markdown",
   "id": "35ea701b",
   "metadata": {},
   "source": [
    "for loop will be used when we know the number of iterations we are going to be used\n",
    "\n",
    "while loop is use baded on condition until it sastifys"
   ]
  },
  {
   "cell_type": "code",
   "execution_count": 13,
   "id": "e6700f02",
   "metadata": {},
   "outputs": [
    {
     "name": "stdout",
     "output_type": "stream",
     "text": [
      "---FOR LOOP---\n",
      "0 1 2 3 4 5 6 7 8 9 \n",
      "-------------\n",
      "\n",
      "While loop\n",
      "0 1 2 3 4 5 6 7 8 9 "
     ]
    }
   ],
   "source": [
    "print(\"---FOR LOOP---\")\n",
    "for i in range(0,10,1):\n",
    "    print(i,end=\" \")\n",
    "print()\n",
    "print(\"-------------\")\n",
    "print()\n",
    "print(\"While loop\")\n",
    "i=0\n",
    "while(i<10):\n",
    "    print(i,end=\" \")\n",
    "    i+=1\n"
   ]
  },
  {
   "cell_type": "markdown",
   "id": "194ffb59",
   "metadata": {},
   "source": [
    "# Q72. What is the use of break statement?\n"
   ]
  },
  {
   "cell_type": "markdown",
   "id": "4a76ba57",
   "metadata": {},
   "source": [
    "To exit early from a loop.\n",
    "\n",
    "To skip the remainder of the switch structure"
   ]
  },
  {
   "cell_type": "markdown",
   "id": "95fe8576",
   "metadata": {},
   "source": [
    "# Q73. What is the use of pass statement?"
   ]
  },
  {
   "cell_type": "markdown",
   "id": "1273831e",
   "metadata": {},
   "source": [
    "The pass statement is used as a placeholder for future code"
   ]
  },
  {
   "cell_type": "markdown",
   "id": "13a5947a",
   "metadata": {},
   "source": [
    "# Q74. What is the use of range() function?"
   ]
  },
  {
   "cell_type": "markdown",
   "id": "555006ec",
   "metadata": {},
   "source": [
    "it will return sequence of numbers it will takes parameters \n",
    "\n",
    "start,increment are optional parameter\n",
    "\n",
    "end is mandatiory parameter"
   ]
  },
  {
   "cell_type": "code",
   "execution_count": 14,
   "id": "347916ec",
   "metadata": {},
   "outputs": [
    {
     "name": "stdout",
     "output_type": "stream",
     "text": [
      "0 2 4 6 8 "
     ]
    }
   ],
   "source": [
    "for i in range(0,10,2):\n",
    "    print(i,end=\" \")"
   ]
  },
  {
   "cell_type": "markdown",
   "id": "b9ac87eb",
   "metadata": {},
   "source": [
    "# Q75. How can you loop over a dictionary?\n"
   ]
  },
  {
   "cell_type": "code",
   "execution_count": 21,
   "id": "236452ea",
   "metadata": {},
   "outputs": [],
   "source": [
    "d=dict()\n",
    "d.update({'sam':11})\n",
    "d.update({\"adi\":12})"
   ]
  },
  {
   "cell_type": "code",
   "execution_count": 25,
   "id": "694fdbff",
   "metadata": {},
   "outputs": [
    {
     "name": "stdout",
     "output_type": "stream",
     "text": [
      "('sam', 11)\n",
      "('adi', 12)\n"
     ]
    }
   ],
   "source": [
    "for i in d.items():\n",
    "    print(i)"
   ]
  },
  {
   "cell_type": "markdown",
   "id": "80d4ff38",
   "metadata": {},
   "source": [
    "# Coding problems\n"
   ]
  },
  {
   "cell_type": "markdown",
   "id": "1da74a15",
   "metadata": {},
   "source": [
    "# Q76. Write a Python program to find the factorial of a given number."
   ]
  },
  {
   "cell_type": "code",
   "execution_count": 27,
   "id": "9fa427b7",
   "metadata": {},
   "outputs": [
    {
     "name": "stdout",
     "output_type": "stream",
     "text": [
      "5\n",
      "factorial of  5  is =  120\n"
     ]
    }
   ],
   "source": [
    "n=int(input())\n",
    "def factorial(n):\n",
    "    c=1\n",
    "    for i in range(1,n+1):\n",
    "        c*=i\n",
    "    print(\"factorial of \",n,\" is = \",c)\n",
    "factorial(n)"
   ]
  },
  {
   "cell_type": "markdown",
   "id": "db4356f3",
   "metadata": {},
   "source": [
    "# Q77. Write a Python program to calculate the simple interest. Formula to calculate simple interest is SI = (P*R*T)/100"
   ]
  },
  {
   "cell_type": "code",
   "execution_count": 29,
   "id": "b36659a2",
   "metadata": {},
   "outputs": [
    {
     "name": "stdout",
     "output_type": "stream",
     "text": [
      "Profit = 12000\n",
      "rate of interest = 7\n",
      "tenure = 2\n",
      "si =  1680.0\n"
     ]
    }
   ],
   "source": [
    "p=int(input(\"Profit = \"))\n",
    "r=int(input(\"rate of interest = \"))\n",
    "t=int(input(\"tenure = \"))\n",
    "si=(p*t*r)/100\n",
    "print(\"si = \",si)"
   ]
  },
  {
   "cell_type": "markdown",
   "id": "5117bea2",
   "metadata": {},
   "source": [
    "# Q78. Write a Python program to calculate the compound interest. Formula of compound interest is A = P(1+ R/100)^t.\n"
   ]
  },
  {
   "cell_type": "code",
   "execution_count": 30,
   "id": "a98e3879",
   "metadata": {},
   "outputs": [
    {
     "name": "stdout",
     "output_type": "stream",
     "text": [
      "Profit = 12000\n",
      "rate of interest = 7\n",
      "tenure = 2\n",
      "ci=  13738.800000000001\n"
     ]
    }
   ],
   "source": [
    "p=int(input(\"Profit = \"))\n",
    "r=int(input(\"rate of interest = \"))\n",
    "t=int(input(\"tenure = \"))\n",
    "ci=p*(1+r/100)**t\n",
    "print(\"ci= \",ci)"
   ]
  },
  {
   "cell_type": "markdown",
   "id": "28bb116e",
   "metadata": {},
   "source": [
    "# Q79. Write a Python program to check if a number is prime or not.\n"
   ]
  },
  {
   "cell_type": "code",
   "execution_count": 52,
   "id": "b3b845ef",
   "metadata": {},
   "outputs": [
    {
     "name": "stdout",
     "output_type": "stream",
     "text": [
      "97\n",
      "prime\n"
     ]
    }
   ],
   "source": [
    "n=int(input())\n",
    "i=2\n",
    "c=0\n",
    "while i<=(n//2):\n",
    "    if n%i==0:\n",
    "        c+=1\n",
    "        print(\"NOT PRIME\")\n",
    "        break\n",
    "    i+=1\n",
    "if c==0:\n",
    "    print(\"prime\")"
   ]
  },
  {
   "cell_type": "markdown",
   "id": "c2b2c0d8",
   "metadata": {},
   "source": [
    "# Q80. Write a Python program to check Armstrong Number.\n"
   ]
  },
  {
   "cell_type": "code",
   "execution_count": 1,
   "id": "646378fe",
   "metadata": {},
   "outputs": [
    {
     "name": "stdout",
     "output_type": "stream",
     "text": [
      "123\n",
      "123 is not an Armstrong number\n"
     ]
    }
   ],
   "source": [
    "\n",
    "num = int(input())\n",
    "sum = 0\n",
    "temp = num\n",
    "while temp > 0:\n",
    "   digit = temp % 10\n",
    "   sum += digit ** 3\n",
    "   temp //= 10\n",
    "\n",
    "if num == sum:\n",
    "   print(num,\"is an Armstrong number\")\n",
    "else:\n",
    "   print(num,\"is not an Armstrong number\")"
   ]
  },
  {
   "cell_type": "markdown",
   "id": "be1bc445",
   "metadata": {},
   "source": [
    "# Q81. Write a Python program to find the n-th Fibonacci Number."
   ]
  },
  {
   "cell_type": "code",
   "execution_count": 5,
   "id": "74c0d00a",
   "metadata": {},
   "outputs": [
    {
     "name": "stdout",
     "output_type": "stream",
     "text": [
      "9\n",
      "\n",
      "21\n"
     ]
    }
   ],
   "source": [
    "def fibonacci(n):\n",
    "    a = 0\n",
    "    b = 1\n",
    "    if n < 0:\n",
    "        print(\"Incorrect input\")\n",
    "    elif n == 0:\n",
    "        return a\n",
    "    elif n == 1:\n",
    "        return b\n",
    "    else:\n",
    "        for i in range(2, n):\n",
    "            c = a + b\n",
    "            a = b\n",
    "            b = c\n",
    "        return b\n",
    " \n",
    "n=int(input())\n",
    "print()\n",
    "print(fibonacci(n))"
   ]
  },
  {
   "cell_type": "markdown",
   "id": "7201a8de",
   "metadata": {},
   "source": [
    "# Q82. Write a Python program to interchange the first and last element in a list.\n"
   ]
  },
  {
   "cell_type": "code",
   "execution_count": 7,
   "id": "db34f3f7",
   "metadata": {},
   "outputs": [
    {
     "name": "stdout",
     "output_type": "stream",
     "text": [
      "[7, 2, 3, 4, 5, 6, 1]\n"
     ]
    }
   ],
   "source": [
    "l=[1,2,3,4,5,6,7]\n",
    "a=l[0]\n",
    "b=l[-1]\n",
    "l[0]=b\n",
    "l[-1]=a\n",
    "print(l)"
   ]
  },
  {
   "cell_type": "markdown",
   "id": "450bb959",
   "metadata": {},
   "source": [
    "# Q83. Write a Python program to swap two elements in a list."
   ]
  },
  {
   "cell_type": "code",
   "execution_count": 10,
   "id": "e9ff5d47",
   "metadata": {},
   "outputs": [
    {
     "name": "stdout",
     "output_type": "stream",
     "text": [
      "[1, 2, 4, 3, 5, 6, 7]\n"
     ]
    }
   ],
   "source": [
    "l=[1,2,3,4,5,6,7]\n",
    "l[2],l[3]=l[3],l[2]\n",
    "print(l)"
   ]
  },
  {
   "cell_type": "markdown",
   "id": "881b1509",
   "metadata": {},
   "source": [
    "# Q84. Write a Python program to find N largest element from a list.\n"
   ]
  },
  {
   "cell_type": "code",
   "execution_count": 11,
   "id": "51c70c7d",
   "metadata": {},
   "outputs": [
    {
     "name": "stdout",
     "output_type": "stream",
     "text": [
      "7\n"
     ]
    }
   ],
   "source": [
    "l=[1,2,3,4,5,6,7]\n",
    "print(max(l))"
   ]
  },
  {
   "cell_type": "markdown",
   "id": "9997ebeb",
   "metadata": {},
   "source": [
    "# Q85. Write a Python program to find cumulative sum of a list.\n"
   ]
  },
  {
   "cell_type": "code",
   "execution_count": 12,
   "id": "d6c9847e",
   "metadata": {},
   "outputs": [
    {
     "name": "stdout",
     "output_type": "stream",
     "text": [
      "[1, 3, 6, 10, 15, 21, 28]\n"
     ]
    }
   ],
   "source": [
    "l=[1,2,3,4,5,6,7]\n",
    "ll=[]\n",
    "s=0\n",
    "for i in l:\n",
    "    s+=i\n",
    "    ll.append(s)\n",
    "print(ll)"
   ]
  },
  {
   "cell_type": "markdown",
   "id": "f55a321d",
   "metadata": {},
   "source": [
    "# Q86. Write a Python program to check if a string is palindrome or not."
   ]
  },
  {
   "cell_type": "code",
   "execution_count": 19,
   "id": "8b55cc2c",
   "metadata": {},
   "outputs": [
    {
     "name": "stdout",
     "output_type": "stream",
     "text": [
      "sos\n",
      "YES PALINDROME\n"
     ]
    }
   ],
   "source": [
    "n=input()\n",
    "n1=n[::-1]\n",
    "if n1==n:\n",
    "    print(\"YES PALINDROME\")\n",
    "else:\n",
    "    print(\"NOT PALINDROME\")"
   ]
  },
  {
   "cell_type": "markdown",
   "id": "78fd6844",
   "metadata": {},
   "source": [
    "# Q87. Write a Python program to remove i'th element from a string.\n"
   ]
  },
  {
   "cell_type": "code",
   "execution_count": 22,
   "id": "0c6ab135",
   "metadata": {},
   "outputs": [
    {
     "name": "stdout",
     "output_type": "stream",
     "text": [
      "[1, 2, 4, 5, 6, 7, 8]\n"
     ]
    }
   ],
   "source": [
    "n=[1,2,3,4,5,6,7,8]\n",
    "n.pop(2)\n",
    "print(n)\n"
   ]
  },
  {
   "cell_type": "markdown",
   "id": "5caddda7",
   "metadata": {},
   "source": [
    "# Q88. Write a Python program to check if a substring is present in a given string.\n"
   ]
  },
  {
   "cell_type": "code",
   "execution_count": 24,
   "id": "178e8984",
   "metadata": {},
   "outputs": [
    {
     "name": "stdout",
     "output_type": "stream",
     "text": [
      "name\n",
      "s\n",
      "No\n"
     ]
    }
   ],
   "source": [
    "string=input()\n",
    "sub_string=input()\n",
    "if sub_string  in string:\n",
    "    print(\"Yes\")\n",
    "else:\n",
    "    print('No')"
   ]
  },
  {
   "cell_type": "markdown",
   "id": "05b26ae8",
   "metadata": {},
   "source": [
    "# Q89. Write a Python program to find words which are greater than given length k.\n"
   ]
  },
  {
   "cell_type": "code",
   "execution_count": 36,
   "id": "c692b8dc",
   "metadata": {},
   "outputs": [
    {
     "name": "stdout",
     "output_type": "stream",
     "text": [
      "length : 5\n",
      "enter string : ineuron big datacourse\n",
      "['ineuron', 'datacourse']\n"
     ]
    }
   ],
   "source": [
    "k=int(input(\"length : \"))\n",
    "s=input('enter string : ') \n",
    "l=s.split(\" \")\n",
    "ss=[]\n",
    "for  i in l:\n",
    "    if len(i)>=k:\n",
    "        ss.append(i)\n",
    "\n",
    "print(ss)\n"
   ]
  },
  {
   "cell_type": "markdown",
   "id": "6c75afa1",
   "metadata": {},
   "source": [
    "# Q90. Write a Python program to extract unquire dictionary values."
   ]
  },
  {
   "cell_type": "code",
   "execution_count": 1,
   "id": "05bbaa27",
   "metadata": {},
   "outputs": [
    {
     "name": "stdout",
     "output_type": "stream",
     "text": [
      "{'A': [1, 3, 5, 4], 'B': [4, 6, 8, 10], 'C': [6, 12, 4, 8], 'D': [5, 7, 2]}\n",
      "The unique values list is :  [1, 2, 3, 4, 5, 6, 7, 8, 10, 12]\n"
     ]
    }
   ],
   "source": [
    "dict1 = {'A' : [1, 3, 5, 4],\n",
    "             'B' : [4, 6, 8, 10],\n",
    "             'C' : [6, 12, 4 ,8],\n",
    "             'D' : [5, 7, 2]}\n",
    "\n",
    "print(dict1)\n",
    "res = list(sorted({ele for val in dict1.values() for ele in val}))\n",
    "  \n",
    "print(\"The unique values list is : \" , res) "
   ]
  },
  {
   "cell_type": "markdown",
   "id": "7cd7e267",
   "metadata": {},
   "source": [
    "# Q91. Write a Python program to merge two dictionary."
   ]
  },
  {
   "cell_type": "code",
   "execution_count": 2,
   "id": "8f78678e",
   "metadata": {},
   "outputs": [
    {
     "name": "stdout",
     "output_type": "stream",
     "text": [
      "{1: 'a', 2: 'c', 4: 'd'}\n"
     ]
    }
   ],
   "source": [
    "dict_1 = {1: 'a', 2: 'b'}\n",
    "dict_2 = {2: 'c', 4: 'd'}\n",
    "\n",
    "print(dict_1 | dict_2)"
   ]
  },
  {
   "cell_type": "markdown",
   "id": "b6dcd5e2",
   "metadata": {},
   "source": [
    "# Q92. Write a Python program to convert a list of tuples into dictionary.\n",
    "```\n",
    "Input : [('Sachin', 10), ('MSD', 7), ('Kohli', 18), ('Rohit', 45)]\n",
    "Output : {'Sachin': 10, 'MSD': 7, 'Kohli': 18, 'Rohit': 45}"
   ]
  },
  {
   "cell_type": "code",
   "execution_count": 6,
   "id": "aa5e8b92",
   "metadata": {},
   "outputs": [
    {
     "name": "stdout",
     "output_type": "stream",
     "text": [
      "{'Sachin': 10, 'MSD': 7, 'Kohli': 18, 'Rohit': 45}\n"
     ]
    }
   ],
   "source": [
    "n= [('Sachin', 10), ('MSD', 7), ('Kohli', 18), ('Rohit', 45)] \n",
    "k=[]\n",
    "v=[]\n",
    "for i in n:\n",
    "    k.append(i[0])\n",
    "    v.append(i[1])\n",
    "d=dict()    \n",
    "for i in range(len(k)):\n",
    "    d.update({k[i]:v[i]})\n",
    "print(d)"
   ]
  },
  {
   "cell_type": "markdown",
   "id": "40ce538a",
   "metadata": {},
   "source": [
    "# Q93. Write a Python program to create a list of tuples from given list having number and its cube in each tuple.\n",
    "```\n",
    "Input: list = [9, 5, 6]\n",
    "    \n",
    "Output: [(9, 729), (5, 125), (6, 216)]\n",
    "```"
   ]
  },
  {
   "cell_type": "code",
   "execution_count": 11,
   "id": "1848ccec",
   "metadata": {},
   "outputs": [
    {
     "name": "stdout",
     "output_type": "stream",
     "text": [
      "[(9, 729), (5, 125), (6, 216)]\n"
     ]
    }
   ],
   "source": [
    "n=[9,5,6]\n",
    "l=[]\n",
    "for i in n:\n",
    "    l.append((i,i**3))\n",
    "print(l)"
   ]
  },
  {
   "cell_type": "markdown",
   "id": "365d7a61",
   "metadata": {},
   "source": [
    "# Q94. Write a Python program to get all combinations of 2 tuples.\n",
    "```\n",
    "Input : test_tuple1 = (7, 2), test_tuple2 = (7, 8)\n",
    "Output : [(7, 7), (7, 8), (2, 7), (2, 8), (7, 7), (7, 2), (8, 7), (8, 2)]\n",
    "```"
   ]
  },
  {
   "cell_type": "code",
   "execution_count": 14,
   "id": "e273df0d",
   "metadata": {},
   "outputs": [
    {
     "name": "stdout",
     "output_type": "stream",
     "text": [
      "The original tuple 1 : (7, 2)\n",
      "The original tuple 2 : (7, 8)\n",
      "All pair combinations of 2 tuples : [(7, 7), (7, 8), (2, 7), (2, 8), (7, 7), (7, 2), (8, 7), (8, 2)]\n"
     ]
    }
   ],
   "source": [
    "import itertools\n",
    " \n",
    "test_tuple1 = (7, 2)\n",
    "test_tuple2 = (7, 8)\n",
    " \n",
    "# printing original tuples\n",
    "print(\"The original tuple 1 : \" + str(test_tuple1))\n",
    "print(\"The original tuple 2 : \" + str(test_tuple2))\n",
    " \n",
    "res = [(a, b) for a in test_tuple1 for b in test_tuple2] + [(a, b) for a in test_tuple2 for b in test_tuple1]\n",
    " \n",
    "# printing result\n",
    "print(\"All pair combinations of 2 tuples : \" + str(res))"
   ]
  },
  {
   "cell_type": "markdown",
   "id": "e822995e",
   "metadata": {},
   "source": [
    "# Q95. Write a Python program to sort a list of tuples by second item.\n",
    "```\n",
    "Input : [('for', 24), ('Geeks', 8), ('Geeks', 30)] \n",
    "Output : [('Geeks', 8), ('for', 24), ('Geeks', 30)]"
   ]
  },
  {
   "cell_type": "code",
   "execution_count": 19,
   "id": "5ccfc465",
   "metadata": {},
   "outputs": [
    {
     "name": "stdout",
     "output_type": "stream",
     "text": [
      "[('Geeks', 8), ('for', 24), ('Geeks', 30)]\n"
     ]
    }
   ],
   "source": [
    "n= [('for', 24), ('Geeks', 8), ('Geeks', 30)] \n",
    "print((sorted(n, key = lambda n: n[1])))"
   ]
  },
  {
   "cell_type": "markdown",
   "id": "8ad72c2e",
   "metadata": {},
   "source": [
    "# Q96. Write a python program to print below pattern.\n",
    "```\n",
    "* \n",
    "* * \n",
    "* * * \n",
    "* * * * \n",
    "* * * * * \n",
    "```"
   ]
  },
  {
   "cell_type": "code",
   "execution_count": 22,
   "id": "4709ab13",
   "metadata": {},
   "outputs": [
    {
     "name": "stdout",
     "output_type": "stream",
     "text": [
      "5\n",
      "\n",
      "*\n",
      "**\n",
      "***\n",
      "****\n",
      "*****\n"
     ]
    }
   ],
   "source": [
    "n=int(input())\n",
    "for i in range(n+1):\n",
    "    print(i*\"*\")"
   ]
  },
  {
   "cell_type": "markdown",
   "id": "5faf4caf",
   "metadata": {},
   "source": [
    "# Q97. Write a python program to print below pattern.\n",
    "```\n",
    "    *\n",
    "   **\n",
    "  ***\n",
    " ****\n",
    "*****\n",
    "```"
   ]
  },
  {
   "cell_type": "code",
   "execution_count": 23,
   "id": "d9ff8618",
   "metadata": {},
   "outputs": [
    {
     "name": "stdout",
     "output_type": "stream",
     "text": [
      "     \n",
      "    *\n",
      "   **\n",
      "  ***\n",
      " ****\n",
      "*****\n"
     ]
    }
   ],
   "source": [
    "n=5;i=0\n",
    "while(i<=n):\n",
    "  print(\" \" * (n - i) +\"*\" * i)\n",
    "  i+=1"
   ]
  },
  {
   "cell_type": "markdown",
   "id": "e056eeed",
   "metadata": {},
   "source": [
    "# Q98. Write a python program to print below pattern.\n",
    "```\n",
    "    * \n",
    "   * * \n",
    "  * * * \n",
    " * * * * \n",
    "* * * * * \n",
    "```"
   ]
  },
  {
   "cell_type": "code",
   "execution_count": 25,
   "id": "76b0194d",
   "metadata": {},
   "outputs": [
    {
     "name": "stdout",
     "output_type": "stream",
     "text": [
      "5\n",
      "        * \n",
      "      * * \n",
      "    * * * \n",
      "  * * * * \n",
      "* * * * * \n"
     ]
    }
   ],
   "source": [
    "rows = int(input())  \n",
    "k = 2 * rows - 2  \n",
    "for i in range(0, rows):  \n",
    "    for j in range(0, k):  \n",
    "        print(end=\" \")  \n",
    "    k = k - 2   \n",
    "    for j in range(0, i + 1):  \n",
    "        print(\"* \", end=\"\") \n",
    "    print(\"\")  "
   ]
  },
  {
   "cell_type": "markdown",
   "id": "022fec44",
   "metadata": {},
   "source": [
    "# Q99. Write a python program to print below pattern.\n",
    "```\n",
    "1 \n",
    "\n",
    "1 2 \n",
    "\n",
    "1 2 3 \n",
    "\n",
    "1 2 3 4 \n",
    "\n",
    "1 2 3 4 5"
   ]
  },
  {
   "cell_type": "code",
   "execution_count": 28,
   "id": "42fcef71",
   "metadata": {},
   "outputs": [
    {
     "name": "stdout",
     "output_type": "stream",
     "text": [
      "1 \n",
      "1 2 \n",
      "1 2 3 \n",
      "1 2 3 4 \n",
      "1 2 3 4 5 \n"
     ]
    }
   ],
   "source": [
    "rows = 5\n",
    "for i in range(1, rows + 1):\n",
    "    for j in range(1, i + 1):\n",
    "        print(j, end=' ')\n",
    "    print('')"
   ]
  },
  {
   "cell_type": "markdown",
   "id": "5b258b92",
   "metadata": {},
   "source": [
    "# Q100. Write a python program to print below pattern.\n",
    "```\n",
    "A \n",
    "B B \n",
    "C C C \n",
    "D D D D \n",
    "E E E E E \n",
    "```"
   ]
  },
  {
   "cell_type": "code",
   "execution_count": 39,
   "id": "17738387",
   "metadata": {},
   "outputs": [
    {
     "name": "stdout",
     "output_type": "stream",
     "text": [
      "A\n",
      "BB\n",
      "CCC\n",
      "DDDD\n",
      "EEEEE\n"
     ]
    }
   ],
   "source": [
    "for i in range(5):\n",
    "    a=65+i\n",
    "    print(chr(a)*(i+1))"
   ]
  },
  {
   "cell_type": "code",
   "execution_count": null,
   "id": "f72e086f",
   "metadata": {},
   "outputs": [],
   "source": []
  }
 ],
 "metadata": {
  "kernelspec": {
   "display_name": "Python 3 (ipykernel)",
   "language": "python",
   "name": "python3"
  },
  "language_info": {
   "codemirror_mode": {
    "name": "ipython",
    "version": 3
   },
   "file_extension": ".py",
   "mimetype": "text/x-python",
   "name": "python",
   "nbconvert_exporter": "python",
   "pygments_lexer": "ipython3",
   "version": "3.9.7"
  },
  "vscode": {
   "interpreter": {
    "hash": "b28b220f449c9d722e018aff2a16f7d190e45d446fc4e09783419a433be31837"
   }
  }
 },
 "nbformat": 4,
 "nbformat_minor": 5
}
