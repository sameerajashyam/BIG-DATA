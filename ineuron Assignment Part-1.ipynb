{
 "cells": [
  {
   "cell_type": "markdown",
   "id": "a0060bc8",
   "metadata": {},
   "source": [
    "# Q1. Why do we call Python as a general purpose and high-level programming language?\n"
   ]
  },
  {
   "cell_type": "markdown",
   "id": "f4d9110a",
   "metadata": {},
   "source": [
    "python is  general purpose   programming language because it is widely used to built different softwares\n",
    "\n",
    "it can be used to create a variety of different programs and isnt specialized for any specific problems\n",
    "\n"
   ]
  },
  {
   "cell_type": "markdown",
   "id": "b4aeaf81",
   "metadata": {},
   "source": [
    "# Q2. Why is Python called a dynamically typed language?\n"
   ]
  },
  {
   "cell_type": "markdown",
   "id": "5b1970c3",
   "metadata": {},
   "source": [
    "for declaring a variable we need not take the date type seperately\n",
    "\n",
    "lets say we want to take a=5\n",
    "\n",
    "in python we can assign directly a=5  and Python also take cares of the memory management  this is  why we call dynamically typed language"
   ]
  },
  {
   "cell_type": "markdown",
   "id": "d52d3775",
   "metadata": {},
   "source": [
    "# Q3. List some pros and cons of Python programming language?\n"
   ]
  },
  {
   "cell_type": "markdown",
   "id": "9b781817",
   "metadata": {},
   "source": [
    "#pros\n",
    "--> as we know python is dynamically typed programming language\n",
    "\n",
    "--> open source\n",
    "\n",
    "--> packages and libraries in python\n",
    "\n",
    "--> inbuilt functions\n",
    "\n",
    "#cons\n",
    "\n",
    "-->slower when compared to c++ in execution time\n",
    "\n",
    "-->High memory consumption"
   ]
  },
  {
   "cell_type": "markdown",
   "id": "e89815b8",
   "metadata": {},
   "source": [
    "# Q4. In what all domains can we use Python?"
   ]
  },
  {
   "cell_type": "markdown",
   "id": "fba32dd6",
   "metadata": {},
   "source": [
    "python is widely used in ai and ml is widely used.\n",
    "\n",
    "python is widely used in  Data science.\n",
    "\n",
    "python is used in web development(django,flask).\n",
    "\n",
    "It is used to built deep learning model like ann,gan,nn,...etc\n"
   ]
  },
  {
   "cell_type": "markdown",
   "id": "f0c6d4d9",
   "metadata": {},
   "source": [
    "# Q5. What are variable and how can we declare them?"
   ]
  },
  {
   "cell_type": "markdown",
   "id": "0deb52cb",
   "metadata": {},
   "source": [
    "variables are nothing but containers  to store a data.\n",
    "\n",
    "lets say a is a variable if we want to store the value 5 in it we use  a=5.\n",
    "\n",
    "here a is variable we  assign the value 5 to the varible a\n"
   ]
  },
  {
   "cell_type": "markdown",
   "id": "d217a8b0",
   "metadata": {},
   "source": [
    "# Q6. How can we take an input from the user in Python?"
   ]
  },
  {
   "cell_type": "markdown",
   "id": "b0941027",
   "metadata": {},
   "source": [
    "in python we can take input by using the input() inbuilt function.\n",
    "\n",
    "by default input() will be string.\n",
    "\n",
    "a=input()#string\n",
    "\n",
    "b=int(input())# integer\n"
   ]
  },
  {
   "cell_type": "markdown",
   "id": "f09f06b8",
   "metadata": {},
   "source": [
    "# Q7. What is the default datatype of the value that has been taken as an input using input() function"
   ]
  },
  {
   "cell_type": "markdown",
   "id": "79fb73a4",
   "metadata": {},
   "source": [
    "by default input() will take as string"
   ]
  },
  {
   "cell_type": "markdown",
   "id": "9fa55cce",
   "metadata": {},
   "source": [
    "# Q8. What is type casting?"
   ]
  },
  {
   "cell_type": "markdown",
   "id": "6f66e3ea",
   "metadata": {},
   "source": [
    "type casting in simple words changing the data type.\n",
    "\n",
    "the conversion of one data type into the other data type\n",
    "\n",
    "a=\"9\"#we taken as string\n",
    "\n",
    "b=int(a) #we are type casting (string to integer)\n"
   ]
  },
  {
   "cell_type": "code",
   "execution_count": 10,
   "id": "e9c0f5d6",
   "metadata": {},
   "outputs": [
    {
     "name": "stdout",
     "output_type": "stream",
     "text": [
      "<class 'str'>\n",
      "<class 'int'>\n"
     ]
    }
   ],
   "source": [
    "a=\"9\"\n",
    "b=int(a)\n",
    "print(type(a))\n",
    "print(type(b))"
   ]
  },
  {
   "cell_type": "markdown",
   "id": "5cf7b9c0",
   "metadata": {},
   "source": [
    "# Q9. Can we take more than one input from the user using single input() function? If yes, how? If no, why?"
   ]
  },
  {
   "cell_type": "markdown",
   "id": "6f5d2d1d",
   "metadata": {},
   "source": [
    "it is possible to take more than one input from user usinf single input by using split() function\n",
    "let say we want to take 3 values from user a,b,c by using single input we can take\n",
    "a,b,c=input().split()\n"
   ]
  },
  {
   "cell_type": "code",
   "execution_count": 2,
   "id": "c01cddb6",
   "metadata": {},
   "outputs": [
    {
     "name": "stdout",
     "output_type": "stream",
     "text": [
      "1 2 3\n"
     ]
    }
   ],
   "source": [
    "a,b,c=input().split()"
   ]
  },
  {
   "cell_type": "code",
   "execution_count": 3,
   "id": "4038e405",
   "metadata": {},
   "outputs": [
    {
     "name": "stdout",
     "output_type": "stream",
     "text": [
      "1 2 3\n"
     ]
    }
   ],
   "source": [
    "print(a,b,c)"
   ]
  },
  {
   "cell_type": "markdown",
   "id": "7ceaf7ee",
   "metadata": {},
   "source": [
    "# Q10. What are keywords?"
   ]
  },
  {
   "cell_type": "markdown",
   "id": "a126b79f",
   "metadata": {},
   "source": [
    "# Several words in the Python language are designated as reserved keywords, meaning they cannot be used as variable names, function names, or any other identifiers.\n",
    "ex:\n",
    "    and\n",
    "    \n",
    "    as,\n",
    "    \n",
    "    class,\n",
    "    \n",
    "    def,\n",
    "    \n",
    "    elif,\n",
    "    if ,\n",
    "    else,\n",
    "    break,\n",
    "    continue,\n",
    "    finally,\n",
    "    from,\n",
    "    while,\n",
    "    import\n",
    "    ...etc\n",
    "    "
   ]
  },
  {
   "cell_type": "markdown",
   "id": "d1daf36b",
   "metadata": {},
   "source": [
    "# Q11. Can we use keywords as a variable? Support your answer with reason."
   ]
  },
  {
   "cell_type": "markdown",
   "id": "5e1f07af",
   "metadata": {},
   "source": [
    "we cannot use keyword  as variable name it throws error if we used\n",
    "\n",
    "reason:\n",
    "\n",
    "    Keywords define the languages syntax rules and structure, and they cannot be used as variable names"
   ]
  },
  {
   "cell_type": "markdown",
   "id": "c5826227",
   "metadata": {},
   "source": [
    "# Q12. What is indentation? What's the use of indentaion in Python?"
   ]
  },
  {
   "cell_type": "markdown",
   "id": "ac19b2f8",
   "metadata": {},
   "source": [
    "python uses indentation to indicate a block of code.\n",
    "\n",
    "Python indentation refers to adding white space before a statement to a particular block of code. \n",
    "\n",
    "ex:\n",
    "    if 1:\n",
    "        print(True)#indentation  gap before print()statement for this line\n",
    "    else:\n",
    "        print(False)\n",
    "        \n",
    "uses:\n",
    "    provides readers with a sense of continuity\n",
    "    They help present content in a logical fashion"
   ]
  },
  {
   "cell_type": "markdown",
   "id": "a6ff1076",
   "metadata": {},
   "source": [
    "# Q13. How can we throw some output in Python?"
   ]
  },
  {
   "cell_type": "markdown",
   "id": "1e089a6e",
   "metadata": {},
   "source": [
    "python helps us to print output by using print() function\n",
    "\n",
    "ex:\n",
    "\n",
    "    a=\"ineuron\"\n",
    "    \n",
    "    print(a)#output"
   ]
  },
  {
   "cell_type": "code",
   "execution_count": 11,
   "id": "988305f8",
   "metadata": {},
   "outputs": [
    {
     "name": "stdout",
     "output_type": "stream",
     "text": [
      "ineuron\n"
     ]
    }
   ],
   "source": [
    "a=\"ineuron\"\n",
    "print(a)#output"
   ]
  },
  {
   "cell_type": "markdown",
   "id": "5822f25b",
   "metadata": {},
   "source": [
    "# Q14. What are operators in Python?"
   ]
  },
  {
   "cell_type": "markdown",
   "id": "32efe689",
   "metadata": {},
   "source": [
    "Operators are special symbols that perform operations on variables and values.\n",
    "\n",
    "Arithmetic operators\n",
    "\n",
    "Assignment Operators\n",
    "\n",
    "Comparison Operators\n",
    "\n",
    "Logical Operators\n",
    "\n",
    "Bitwise Operators\n",
    "\n"
   ]
  },
  {
   "cell_type": "markdown",
   "id": "b709e82e",
   "metadata": {},
   "source": [
    "# Q15. What is difference between / and // operators?"
   ]
  },
  {
   "cell_type": "markdown",
   "id": "8ef3edea",
   "metadata": {},
   "source": [
    "/ means float division\n",
    "\n",
    "// means integer division\n"
   ]
  },
  {
   "cell_type": "code",
   "execution_count": 14,
   "id": "6bcefae2",
   "metadata": {},
   "outputs": [
    {
     "name": "stdout",
     "output_type": "stream",
     "text": [
      "2.5\n",
      "2\n"
     ]
    }
   ],
   "source": [
    "a=5/2\n",
    "b=5//2\n",
    "print(a)\n",
    "print(b)"
   ]
  },
  {
   "cell_type": "markdown",
   "id": "74094cc0",
   "metadata": {},
   "source": [
    "# Q16. Write a code that gives following as an output."
   ]
  },
  {
   "cell_type": "code",
   "execution_count": 16,
   "id": "d3c591ff",
   "metadata": {},
   "outputs": [
    {
     "name": "stdout",
     "output_type": "stream",
     "text": [
      "iNeuroniNeuroniNeuroniNeuron\n"
     ]
    }
   ],
   "source": [
    "n=\"iNeuron\"\n",
    "print(n*4)"
   ]
  },
  {
   "cell_type": "markdown",
   "id": "04e102ad",
   "metadata": {},
   "source": [
    "# Q17. Write a code to take a number as an input from the user and check if the number is odd or even.\n"
   ]
  },
  {
   "cell_type": "code",
   "execution_count": 17,
   "id": "41d30dff",
   "metadata": {},
   "outputs": [
    {
     "name": "stdout",
     "output_type": "stream",
     "text": [
      "22\n",
      "Even\n"
     ]
    }
   ],
   "source": [
    "n=int(input())\n",
    "if n%2==0:  #if it is divisible by 2 then it is even\n",
    "    print(\"Even\")\n",
    "else:\n",
    "    print(\"Odd\")"
   ]
  },
  {
   "cell_type": "markdown",
   "id": "53db7598",
   "metadata": {},
   "source": [
    "# Q18. What are boolean operator?"
   ]
  },
  {
   "cell_type": "markdown",
   "id": "cd6d9e69",
   "metadata": {},
   "source": [
    "boolean operator  mean True or False \n",
    "\n",
    "Boolean operators are another name for the logical operators -->and, or,not."
   ]
  },
  {
   "cell_type": "markdown",
   "id": "ac1c245d",
   "metadata": {},
   "source": [
    "# Q19. What will the output of the following?\n",
    "```\n",
    "1 or 0\n",
    "\n",
    "0 and 0\n",
    "\n",
    "True and False and True\n",
    "\n",
    "1 or 0 or 0"
   ]
  },
  {
   "cell_type": "code",
   "execution_count": 22,
   "id": "9f82d7d3",
   "metadata": {},
   "outputs": [
    {
     "name": "stdout",
     "output_type": "stream",
     "text": [
      "1 or 0= 1\n"
     ]
    }
   ],
   "source": [
    "print(\"1 or 0=\",1 or 0)"
   ]
  },
  {
   "cell_type": "code",
   "execution_count": 23,
   "id": "88e40bed",
   "metadata": {},
   "outputs": [
    {
     "name": "stdout",
     "output_type": "stream",
     "text": [
      "1 and 0= 0\n"
     ]
    }
   ],
   "source": [
    "print(\"1 and 0=\",1 and 0)"
   ]
  },
  {
   "cell_type": "code",
   "execution_count": 25,
   "id": "64578ad7",
   "metadata": {},
   "outputs": [
    {
     "name": "stdout",
     "output_type": "stream",
     "text": [
      "True or False = True\n"
     ]
    }
   ],
   "source": [
    "print(\"True or False =\",True or False)"
   ]
  },
  {
   "cell_type": "code",
   "execution_count": 28,
   "id": "cc20e13d",
   "metadata": {},
   "outputs": [
    {
     "name": "stdout",
     "output_type": "stream",
     "text": [
      "1 or 0 or 0 = 1\n"
     ]
    }
   ],
   "source": [
    "print(\"1 or 0 or 0 =\",1 or 0 or 0)"
   ]
  },
  {
   "cell_type": "markdown",
   "id": "086e357b",
   "metadata": {},
   "source": [
    "# Q20. What are conditional statements in Python?"
   ]
  },
  {
   "cell_type": "markdown",
   "id": "4d0b2829",
   "metadata": {},
   "source": [
    "in python condition statement are if else statements\n",
    "\n",
    "we have a particular conditions we check for those if those particular conditon is accepted then \n",
    "\n",
    "those instruction will get executed\n",
    "\n",
    "if condtion fail will check same for other condtion if all fail else block will execute if it was \n",
    "\n",
    "available\n",
    "\n",
    "if x==1:\n",
    "\n",
    "    print(1)\n",
    "\n",
    "elif x==2:\n",
    "\n",
    "    print(2)\n",
    "\n",
    "else:\n",
    "\n",
    "    print(3)\n"
   ]
  },
  {
   "cell_type": "markdown",
   "id": "74996461",
   "metadata": {},
   "source": [
    "# Q21. What is use of 'if', 'elif' and 'else' keywords?"
   ]
  },
  {
   "cell_type": "markdown",
   "id": "a968f409",
   "metadata": {},
   "source": [
    "we can say if is an decision making statement\n",
    "\n",
    "It is used to decide whether a certain statement or block of statements will be executed or not i.e \n",
    "\n",
    "if a certain condition is true then a block of statement is executed otherwise not.\n",
    "\n",
    "ex :\n",
    "    \n",
    "    a=10\n",
    "    \n",
    "    if a==10:\n",
    "    \n",
    "        print(\"TRUE\")\n",
    "\n",
    "elif:\n",
    "    if conditional statement is false if we want to check for more conditional statements then we can     use elif\n",
    "    \n",
    "else:\n",
    "    if all the conditional statements are flase the else will be executed"
   ]
  },
  {
   "cell_type": "code",
   "execution_count": 3,
   "id": "9ffc7350",
   "metadata": {},
   "outputs": [
    {
     "name": "stdout",
     "output_type": "stream",
     "text": [
      "Enter your lucky number: 12\n",
      "hi\n"
     ]
    }
   ],
   "source": [
    "a=int(input(\"Enter your lucky number: \"))\n",
    "if a<100:\n",
    "    print(\"hi\")\n",
    "elif a<1000:\n",
    "    print(\"hihi\")\n",
    "else:\n",
    "    print(\"Hello\")"
   ]
  },
  {
   "cell_type": "markdown",
   "id": "beaea769",
   "metadata": {},
   "source": [
    "# Q22. Write a code to take the age of person as an input and if age >= 18 display \"I can vote\". If age is < 18 display \"I can't vote\"."
   ]
  },
  {
   "cell_type": "code",
   "execution_count": 5,
   "id": "08b435e2",
   "metadata": {},
   "outputs": [
    {
     "name": "stdout",
     "output_type": "stream",
     "text": [
      "Enter the age : 12\n",
      "I can't  vote\n"
     ]
    }
   ],
   "source": [
    "n=int(input(\"Enter the age : \"))\n",
    "if n>=18:\n",
    "    print(\"I can vote.\")\n",
    "else:\n",
    "    print(\"I can't  vote\")"
   ]
  },
  {
   "cell_type": "markdown",
   "id": "798bdf11",
   "metadata": {},
   "source": [
    "# Q23. Write a code that displays the sum of all the even numbers from the given list.\n",
    "```\n",
    "numbers = [12, 75, 150, 180, 145, 525, 50]"
   ]
  },
  {
   "cell_type": "code",
   "execution_count": 6,
   "id": "c9fb7a59",
   "metadata": {},
   "outputs": [
    {
     "name": "stdout",
     "output_type": "stream",
     "text": [
      "392\n"
     ]
    }
   ],
   "source": [
    "even_sum=0\n",
    "numbers = [12, 75, 150, 180, 145, 525, 50]\n",
    "for i in numbers:\n",
    "    if i%2==0:\n",
    "        even_sum+=i\n",
    "print(even_sum)"
   ]
  },
  {
   "cell_type": "markdown",
   "id": "f35861e2",
   "metadata": {},
   "source": [
    "# Q24. Write a code to take 3 numbers as an input from the user and display the greatest no as output"
   ]
  },
  {
   "cell_type": "code",
   "execution_count": 11,
   "id": "9f145f54",
   "metadata": {},
   "outputs": [
    {
     "name": "stdout",
     "output_type": "stream",
     "text": [
      "1 2 3\n",
      "3\n"
     ]
    }
   ],
   "source": [
    "a,b,c=input().split(\" \")\n",
    "print(max(a,b,c))"
   ]
  },
  {
   "cell_type": "markdown",
   "id": "02cd4c9d",
   "metadata": {},
   "source": [
    "# Q25. Write a program to display only those numbers from a list that satisfy the following conditions\n",
    "\n",
    "- The number must be divisible by five\n",
    "\n",
    "- If the number is greater than 150, then skip it and move to the next number\n",
    "\n",
    "- If the number is greater than 500, then stop the loop\n",
    "```\n",
    "\n",
    "\n",
    "\n",
    "numbers = [12, 75, 150, 180, 145, 525, 50]"
   ]
  },
  {
   "cell_type": "code",
   "execution_count": 12,
   "id": "fc78e754",
   "metadata": {},
   "outputs": [],
   "source": [
    "numbers = [12, 75, 150, 180, 145, 525, 50]"
   ]
  },
  {
   "cell_type": "code",
   "execution_count": 20,
   "id": "634a3632",
   "metadata": {},
   "outputs": [
    {
     "name": "stdout",
     "output_type": "stream",
     "text": [
      "75\n",
      "145\n"
     ]
    }
   ],
   "source": [
    "for i in numbers:\n",
    "    if i>=500:#greater than 500 stop loop\n",
    "        break;\n",
    "    if i%5==0 and  i<150: #divisible by 5 and less than 500\n",
    "            print(i)\n",
    "        \n",
    "        "
   ]
  },
  {
   "cell_type": "code",
   "execution_count": null,
   "id": "80f3226f",
   "metadata": {},
   "outputs": [],
   "source": []
  }
 ],
 "metadata": {
  "kernelspec": {
   "display_name": "Python 3 (ipykernel)",
   "language": "python",
   "name": "python3"
  },
  "language_info": {
   "codemirror_mode": {
    "name": "ipython",
    "version": 3
   },
   "file_extension": ".py",
   "mimetype": "text/x-python",
   "name": "python",
   "nbconvert_exporter": "python",
   "pygments_lexer": "ipython3",
   "version": "3.9.7"
  },
  "vscode": {
   "interpreter": {
    "hash": "b28b220f449c9d722e018aff2a16f7d190e45d446fc4e09783419a433be31837"
   }
  }
 },
 "nbformat": 4,
 "nbformat_minor": 5
}
